{
 "cells": [
  {
   "cell_type": "markdown",
   "id": "1eed22cf",
   "metadata": {},
   "source": [
    "### Visualization of jobs_in_data.csv"
   ]
  },
  {
   "cell_type": "code",
   "execution_count": 1,
   "id": "729a72d2",
   "metadata": {},
   "outputs": [],
   "source": [
    "import pandas as pd \n",
    "import numpy as np\n",
    "import matplotlib.pyplot as plt\n",
    "import seaborn as sns\n",
    "# Turn off warning messages\n",
    "import warnings\n",
    "warnings.filterwarnings(\"ignore\")"
   ]
  },
  {
   "cell_type": "code",
   "execution_count": 2,
   "id": "4ea42410",
   "metadata": {},
   "outputs": [],
   "source": [
    "# Load the CSV file into a Pandas DataFrame\n",
    "jobs_in_data_us = pd.read_csv(\"output_data\\jobs_in_data_ready_for_analysis.csv\")"
   ]
  },
  {
   "cell_type": "code",
   "execution_count": 3,
   "id": "2d50ae5b",
   "metadata": {},
   "outputs": [],
   "source": [
    "# Take a look at data\n",
    "jobs_in_data_us.head()"
   ]
  },
  {
   "cell_type": "code",
   "execution_count": null,
   "id": "3ddf652c",
   "metadata": {},
   "outputs": [],
   "source": [
    "sns.barplot(x=df['job_category'],y=df['salary'],hue=df['employment_type'])\n",
    "plt.xticks(rotation='vertical')"
   ]
  },
  {
   "cell_type": "code",
   "execution_count": null,
   "id": "cf345115",
   "metadata": {},
   "outputs": [],
   "source": []
  },
  {
   "cell_type": "code",
   "execution_count": null,
   "id": "cae0b80e",
   "metadata": {},
   "outputs": [],
   "source": []
  }
 ],
 "metadata": {
  "kernelspec": {
   "display_name": "dev",
   "language": "python",
   "name": "dev"
  },
  "language_info": {
   "codemirror_mode": {
    "name": "ipython",
    "version": 3
   },
   "file_extension": ".py",
   "mimetype": "text/x-python",
   "name": "python",
   "nbconvert_exporter": "python",
   "pygments_lexer": "ipython3",
   "version": "3.10.13"
  }
 },
 "nbformat": 4,
 "nbformat_minor": 5
}
